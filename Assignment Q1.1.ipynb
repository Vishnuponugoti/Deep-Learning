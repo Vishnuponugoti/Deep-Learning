{
 "cells": [
  {
   "cell_type": "code",
   "execution_count": 1,
   "id": "e498c8b7",
   "metadata": {},
   "outputs": [
    {
     "name": "stdout",
     "output_type": "stream",
     "text": [
      "Enter first num:8\n",
      "Enter second num:2\n",
      "sum: 10.0\n",
      "diff: 6.0\n",
      "mul: 16.0\n",
      "power: 64.0\n"
     ]
    }
   ],
   "source": [
    "# Take input from user\n",
    "num1=float(input(\"Enter first num:\"))\n",
    "num2=float(input(\"Enter second num:\"))\n",
    "#Perform add operation\n",
    "sum=num1+num2\n",
    "#Perform subtract operation\n",
    "diff=num1-num2\n",
    "#Perform product operation\n",
    "mul=num1*num2\n",
    "#Perform power operation\n",
    "power=num1**num2\n",
    "#Print the results\n",
    "print(\"sum:\",sum)\n",
    "print(\"diff:\",diff)\n",
    "print(\"mul:\",mul)\n",
    "print(\"power:\",power)\n"
   ]
  }
 ],
 "metadata": {
  "kernelspec": {
   "display_name": "Python 3 (ipykernel)",
   "language": "python",
   "name": "python3"
  },
  "language_info": {
   "codemirror_mode": {
    "name": "ipython",
    "version": 3
   },
   "file_extension": ".py",
   "mimetype": "text/x-python",
   "name": "python",
   "nbconvert_exporter": "python",
   "pygments_lexer": "ipython3",
   "version": "3.11.1"
  }
 },
 "nbformat": 4,
 "nbformat_minor": 5
}
