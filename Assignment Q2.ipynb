{
 "cells": [
  {
   "cell_type": "code",
   "execution_count": 1,
   "id": "b0c193a5",
   "metadata": {},
   "outputs": [
    {
     "name": "stdout",
     "output_type": "stream",
     "text": [
      "Python is easy to learn\n",
      "Pythons is easy to learn\n"
     ]
    }
   ],
   "source": [
    "# Take input from user\n",
    "string=input()\n",
    "# Replace Python with Pythons\n",
    "x=string.replace(\"Python\",\"Pythons\")\n",
    "# Print the result\n",
    "print(x)"
   ]
  }
 ],
 "metadata": {
  "kernelspec": {
   "display_name": "Python 3 (ipykernel)",
   "language": "python",
   "name": "python3"
  },
  "language_info": {
   "codemirror_mode": {
    "name": "ipython",
    "version": 3
   },
   "file_extension": ".py",
   "mimetype": "text/x-python",
   "name": "python",
   "nbconvert_exporter": "python",
   "pygments_lexer": "ipython3",
   "version": "3.11.1"
  }
 },
 "nbformat": 4,
 "nbformat_minor": 5
}
