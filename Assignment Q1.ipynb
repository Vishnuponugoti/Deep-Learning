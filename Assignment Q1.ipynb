{
 "cells": [
  {
   "cell_type": "code",
   "execution_count": 1,
   "id": "4b629c2b",
   "metadata": {},
   "outputs": [
    {
     "name": "stdout",
     "output_type": "stream",
     "text": [
      "ohtP\n"
     ]
    }
   ],
   "source": [
    "# Taking input from user\n",
    "string = list(\"Python\")\n",
    "# Delete 'n' and 'y' characters\n",
    "string = [x for x in string if x not in ('n','y')]\n",
    "# Reverse the resultant string\n",
    "string = string[::-1]\n",
    "# Print the reversed string\n",
    "print(\"\".join(string))"
   ]
  }
 ],
 "metadata": {
  "kernelspec": {
   "display_name": "Python 3 (ipykernel)",
   "language": "python",
   "name": "python3"
  },
  "language_info": {
   "codemirror_mode": {
    "name": "ipython",
    "version": 3
   },
   "file_extension": ".py",
   "mimetype": "text/x-python",
   "name": "python",
   "nbconvert_exporter": "python",
   "pygments_lexer": "ipython3",
   "version": "3.11.1"
  }
 },
 "nbformat": 4,
 "nbformat_minor": 5
}
