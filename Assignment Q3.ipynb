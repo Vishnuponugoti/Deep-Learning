{
 "cells": [
  {
   "cell_type": "code",
   "execution_count": 2,
   "id": "32464f00",
   "metadata": {},
   "outputs": [
    {
     "name": "stdout",
     "output_type": "stream",
     "text": [
      "Enter your score:86\n",
      "Your grade is: B\n"
     ]
    }
   ],
   "source": [
    "# Take input from user \n",
    "score=float(input(\"Enter your score:\"))\n",
    "# Assign grade for the given input\n",
    "if score>=90:\n",
    "    grade=\"A\"\n",
    "elif score>=80:\n",
    "    grade=\"B\"\n",
    "elif score>=70:\n",
    "    garde=\"C\"\n",
    "elif score>=60:\n",
    "    grade=\"D\"\n",
    "else:\n",
    "    grade=\"F\"\n",
    "#Print the results \n",
    "print(\"Your grade is:\",grade)"
   ]
  }
 ],
 "metadata": {
  "kernelspec": {
   "display_name": "Python 3 (ipykernel)",
   "language": "python",
   "name": "python3"
  },
  "language_info": {
   "codemirror_mode": {
    "name": "ipython",
    "version": 3
   },
   "file_extension": ".py",
   "mimetype": "text/x-python",
   "name": "python",
   "nbconvert_exporter": "python",
   "pygments_lexer": "ipython3",
   "version": "3.11.1"
  }
 },
 "nbformat": 4,
 "nbformat_minor": 5
}
